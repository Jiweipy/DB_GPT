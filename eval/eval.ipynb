{
 "cells": [
  {
   "cell_type": "markdown",
   "metadata": {},
   "source": [
    "## 评估设置\n",
    "\n",
    "- 设置模型及其路径：在`.env`文件中设置`LLM_MODEL={model-name}` 和 `LLM_MODEL_PATH={model-path}`，其中`LLM_MODEL`为模型名称，`LLM_MODEL_PATH`为模型路径。\n",
    "- 执行指令：`python dbgpt/app/dbgpt_server.py`，启动服务。\n",
    "- 接口汇总地址：`http://{your-ip}:5670/docs`\n",
    "\n",
    "运行该文件时，只需要更改`URL`和`MODEL_NAME`、`DB_FILE` （db文件）即可。\n",
    "\n"
   ]
  },
  {
   "cell_type": "code",
   "execution_count": 15,
   "metadata": {},
   "outputs": [],
   "source": [
    "# DB-GPT开放的chat_with_db_execute接口\n",
    "URL = 'http://172.30.81.108:5670/api/v1/chat/completions'\n",
    "MODEL_NAME = 'deepseek_proxyllm'\n",
    "# MODEL_NAME = \"qwen2.5-coder-7b-instruct\"\n",
    "DB_FILE = '/root/qjw/projects/DB-GPT/datas/SQLite_test_stage1/qaf.db'"
   ]
  },
  {
   "cell_type": "code",
   "execution_count": 16,
   "metadata": {},
   "outputs": [],
   "source": [
    "import requests\n",
    "import re\n",
    "\n",
    "def send_post_request(url:str, model_name:str, user_input:str, db_file:str):\n",
    "    \"\"\"\n",
    "    发送post请求, 获取数据模型的回复\n",
    "    \"\"\"\n",
    "    headers = {\n",
    "        'accept': 'application/json',\n",
    "        'Content-Type': 'application/json'\n",
    "    }\n",
    "    data = {\n",
    "        \"conv_uid\": \"None\",\n",
    "        \"user_input\": user_input,\n",
    "        \"user_name\": \"string\",\n",
    "        \"chat_mode\": \"chat_with_db_execute\",\n",
    "        \"select_param\": db_file.split(\"/\")[-1].split(\".\")[0],\n",
    "        \"model_name\": model_name,\n",
    "        \"incremental\": False,\n",
    "        \"sys_code\": \"None\"\n",
    "    }\n",
    "    # 请求接口且时间限制为30s\n",
    "    response = requests.post(url, headers=headers, json=data, timeout=30)\n",
    "    return response.content.decode('utf-8')\n",
    "\n",
    "def parse_data_model_msg(data_model_msg):\n",
    "    \"\"\"\n",
    "    解析数据模型的回复, 提取thoughts, sql, data, type\n",
    "    \"\"\"\n",
    "    # 提取thoughts\n",
    "    thoughts_content = data_model_msg.split(\"\\n\")[0]\n",
    "\n",
    "    # 提取 sql\n",
    "    sql_match = re.search(r\"&quot;sql&quot;: &quot;(.*?)&quot;, &quot;\", data_model_msg)\n",
    "    sql_data = sql_match.group(1) if sql_match else None\n",
    "    sql_data = sql_data.replace(\"&gt;\", \">\").replace(\"&lt;\", \"<\")\n",
    "\n",
    "    # 提取 data\n",
    "    data_match = re.search(r\"&quot;data&quot;: (\\[.*?\\])\", data_model_msg)\n",
    "    data_data = data_match.group(1) if data_match else None\n",
    "\n",
    "    # 提取 type\n",
    "    type_match = re.search(r\"&quot;type&quot;: &quot;(.*?)&quot;\", data_model_msg)\n",
    "    type_data = type_match.group(1) if type_match else None\n",
    "\n",
    "    # 存储到字典中\n",
    "    parse_datas = {\n",
    "        \"thoughts\": thoughts_content,\n",
    "        \"sql\": sql_data,\n",
    "        \"db_data\": data_data,\n",
    "        \"display_type\": type_data,\n",
    "    }\n",
    "    return parse_datas\n",
    "\n",
    "import sqlite3\n",
    "\n",
    "\n",
    "def execute_query(db_file, sql_query):\n",
    "    \"\"\"\n",
    "    执行 SQL 查询\n",
    "    \"\"\"\n",
    "    try:\n",
    "        # 连接到 SQLite 数据库\n",
    "        conn = sqlite3.connect(db_file)\n",
    "        cursor = conn.cursor()\n",
    "\n",
    "        # 执行 SQL 查询\n",
    "        cursor.execute(sql_query)\n",
    "\n",
    "        # 获取字段名\n",
    "        columns = [description[0] for description in cursor.description]\n",
    "\n",
    "        # 获取查询结果\n",
    "        rows = cursor.fetchall()\n",
    "\n",
    "        # 将字段名和对应的值打包成字典\n",
    "        result = [dict(zip(columns, row)) for row in rows]\n",
    "\n",
    "        return result\n",
    "\n",
    "    except sqlite3.Error as e:\n",
    "        print(f\"SQLite 错误: {e}\")\n",
    "        return f\"SQLite 错误: {e}\"\n",
    "\n",
    "    finally:\n",
    "        # 关闭数据库连接\n",
    "        if conn:\n",
    "            conn.close()\n",
    "\n",
    "def main_test(url, model_name, user_input, db_file):\n",
    "    \"\"\"\n",
    "    测试主函数\n",
    "    \"\"\"\n",
    "    response = send_post_request(url, model_name, user_input, db_file)\n",
    "    parse_res = parse_data_model_msg(response)\n",
    "    sql = parse_res[\"sql\"]\n",
    "    print(f\"sql:{sql}\")\n",
    "    # 查询结果并输出对应的字段名\n",
    "    results = execute_query(db_file, sql)\n",
    "    print(results)\n"
   ]
  },
  {
   "cell_type": "code",
   "execution_count": 17,
   "metadata": {},
   "outputs": [],
   "source": [
    "# user_input = \"2022年第四季度,报价有变动的零件数量占比是多少\"\n",
    "\n",
    "\n",
    "# main_test(\n",
    "#     url=URL,\n",
    "#     model_name=MODEL_NAME,\n",
    "#     user_input=user_input,\n",
    "#     db_file=DB_FILE\n",
    "# )"
   ]
  },
  {
   "cell_type": "markdown",
   "metadata": {},
   "source": [
    "## 评估数据处理\n",
    "- 从excel、csv、数据库中读取query数据，进行去重等处理"
   ]
  },
  {
   "cell_type": "code",
   "execution_count": 18,
   "metadata": {},
   "outputs": [
    {
     "name": "stdout",
     "output_type": "stream",
     "text": [
      "54\n"
     ]
    }
   ],
   "source": [
    "# import pandas as pd\n",
    "\n",
    "# # 读取excel文件，query去重等\n",
    "# excel_path = \"./BBT-M-27 68 AI Question List.xlsx\"\n",
    "# df_1 = pd.read_excel(excel_path, sheet_name=\"Real Question from Business\")\n",
    "# df_2 = pd.read_excel(excel_path, sheet_name=\"Real Question from Business 68\")\n",
    "# queries = df_1[\"Question\"].drop_duplicates().dropna().tolist() + df_2[\"Question\"].drop_duplicates().dropna().tolist()\n",
    "# print(len(queries))\n",
    "\n",
    "\n",
    "# 从txt文件中读取query\n",
    "with open(\"query.txt\", \"r\") as f:\n",
    "    queries = f.readlines()\n",
    "    queries = [query.strip() for query in queries]\n",
    "print(len(queries))\n"
   ]
  },
  {
   "cell_type": "markdown",
   "metadata": {},
   "source": [
    "## 推理结果处理\n",
    "\n",
    "- 指定模型名称，模型名称与`.env`文件中的`MODEL_NAME`对应\n",
    "- 结果存储到excel文件中，表头为`query`、`sql`、`result`、`log`，分别表示查询语句、推理的sql语句、推理结果、结果判断日志（Success、None、Error）\n",
    "- "
   ]
  },
  {
   "cell_type": "code",
   "execution_count": 19,
   "metadata": {},
   "outputs": [],
   "source": [
    "import time\n",
    "import pandas as pd\n",
    "from tqdm import tqdm\n",
    "from openpyxl import load_workbook\n",
    "\n",
    "\n",
    "def evaluate_query(url: str, model_name: str, query_list: list, db_file: str, sleep_time: int = 0.5):\n",
    "    \"\"\"\n",
    "    请求数据模型，执行 SQL 查询，并将结果写入 Excel 文件\n",
    "    url: 数据模型的 API 地址\n",
    "    model_name: 数据模型的名称\n",
    "    query_list: 查询列表\n",
    "    db_file: SQLite 数据库文件\n",
    "    sleep_time: 请求数据模型的间隔时间\n",
    "    \"\"\"\n",
    "    # 初始化Excel文件路径\n",
    "    excel_file = f\"{model_name}.xlsx\"\n",
    "    # 创建空的 DataFrame，确保表头只写入一次\n",
    "    df_headers = pd.DataFrame(columns=[\"query\", \"sql\", \"result\", \"log\"])\n",
    "    df_headers.to_excel(excel_file, index=False, sheet_name=model_name)\n",
    "\n",
    "    # 使用 openpyxl 打开工作簿\n",
    "    book = load_workbook(excel_file)\n",
    "    sheet = book.active\n",
    "\n",
    "\n",
    "    # \n",
    "    success_count = 0\n",
    "    error_count = 0\n",
    "    none_count = 0\n",
    "    for query in tqdm(query_list[:2], desc=\"Processing queries\"):\n",
    "        time.sleep(sleep_time) # 间隔n秒，防止请求过快\n",
    "        print(query)\n",
    "        response = send_post_request(url, model_name, query, db_file)\n",
    "        parse_res = parse_data_model_msg(response)\n",
    "        \n",
    "        try:\n",
    "            if parse_res.get(\"sql\"):\n",
    "                query_res = execute_query(db_file, parse_res[\"sql\"])\n",
    "            else:\n",
    "                query_res = []\n",
    "        except:\n",
    "            query_res = []\n",
    "        \n",
    "        print(query_res)\n",
    "        \n",
    "        if \"SQLite 错误\" in str(query_res):\n",
    "            log = \"Error\"\n",
    "            error_count += 1\n",
    "        elif len(query_res) == 0:\n",
    "            log = \"None\"\n",
    "            none_count += 1\n",
    "        else:\n",
    "            log = \"Success\"\n",
    "            success_count += 1\n",
    "        \n",
    "        # 将当前查询结果添加到工作表中\n",
    "        data = {\"query\": query, \"sql\": parse_res.get(\"sql\", \"\"), \"result\": str(query_res), \"log\": log}\n",
    "        sheet.append(list(data.values()))\n",
    "        \n",
    "        # 每处理10个查询就保存一次，以防程序意外终止\n",
    "        if sheet.max_row % 10 == 0:\n",
    "            book.save(excel_file)\n",
    "\n",
    "        print(\"-\"*50)\n",
    "    # 最后保存工作簿\n",
    "    book.save(excel_file)\n",
    "\n",
    "    print(f\"Success: {success_count}, Error: {error_count}, None: {none_count}\")\n",
    "    # 计算占比\n",
    "    total = success_count + error_count + none_count\n",
    "    print(f\"Success Rate: {success_count/total:.2f}, Error Rate: {error_count/total:.2f}, None Rate: {none_count/total:.2f}\")\n",
    "\n"
   ]
  },
  {
   "cell_type": "markdown",
   "metadata": {},
   "source": [
    "## 开始评估"
   ]
  },
  {
   "cell_type": "code",
   "execution_count": 20,
   "metadata": {},
   "outputs": [
    {
     "name": "stderr",
     "output_type": "stream",
     "text": [
      "Processing queries:   0%|          | 0/2 [00:00<?, ?it/s]"
     ]
    },
    {
     "name": "stdout",
     "output_type": "stream",
     "text": [
      "供应商A 都供哪些项目？\n"
     ]
    },
    {
     "name": "stderr",
     "output_type": "stream",
     "text": [
      "Processing queries:  50%|█████     | 1/2 [00:15<00:15, 15.96s/it]"
     ]
    },
    {
     "name": "stdout",
     "output_type": "stream",
     "text": [
      "[{'bmw_project': 'Project X'}]\n",
      "--------------------------------------------------\n",
      "零件5B3A058-01的报价总价是多少？\n"
     ]
    },
    {
     "name": "stderr",
     "output_type": "stream",
     "text": [
      "Processing queries: 100%|██████████| 2/2 [00:33<00:00, 16.64s/it]"
     ]
    },
    {
     "name": "stdout",
     "output_type": "stream",
     "text": [
      "[{'total_costs_9_0_X': 1750}]\n",
      "--------------------------------------------------\n",
      "Success: 2, Error: 0, None: 0\n",
      "Success Rate: 1.00, Error Rate: 0.00, None Rate: 0.00\n"
     ]
    },
    {
     "name": "stderr",
     "output_type": "stream",
     "text": [
      "\n"
     ]
    }
   ],
   "source": [
    "evaluate_query(\n",
    "    url=URL,\n",
    "    model_name=MODEL_NAME,\n",
    "    query_list=queries,\n",
    "    db_file=DB_FILE,\n",
    "    sleep_time=1\n",
    ")"
   ]
  }
 ],
 "metadata": {
  "kernelspec": {
   "display_name": "docqa",
   "language": "python",
   "name": "python3"
  },
  "language_info": {
   "codemirror_mode": {
    "name": "ipython",
    "version": 3
   },
   "file_extension": ".py",
   "mimetype": "text/x-python",
   "name": "python",
   "nbconvert_exporter": "python",
   "pygments_lexer": "ipython3",
   "version": "3.10.14"
  }
 },
 "nbformat": 4,
 "nbformat_minor": 2
}
